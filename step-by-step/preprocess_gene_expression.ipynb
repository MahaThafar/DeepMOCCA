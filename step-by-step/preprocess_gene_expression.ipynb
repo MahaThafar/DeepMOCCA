{
 "cells": [
  {
   "cell_type": "markdown",
   "metadata": {},
   "source": [
    "# Assume that you created a folder for each cancer type and sub-folders inside each of them for (exp, methyl, exp_diff, methyl_diff, vcf, cnv, clinical)"
   ]
  },
  {
   "cell_type": "markdown",
   "metadata": {},
   "source": [
    "# Here we tried different normalization techniques for the gene expression data (row-based, column-based and matrix-based)"
   ]
  },
  {
   "cell_type": "code",
   "execution_count": null,
   "metadata": {},
   "outputs": [],
   "source": [
    "import pandas as pd\n",
    "import csv\n",
    "import numpy as np\n",
    "import os\n",
    "import glob\n",
    "\n",
    "names = [\"TCGA-BRCA\",\"TCGA-GBM\",\"TCGA-OV\",\"TCGA-LUAD\",\"TCGA-UCEC\",\"TCGA-KIRC\",\"TCGA-HNSC\",\"TCGA-LGG\",\"TCGA-THCA\",\"TCGA-LUSC\",\"TCGA-PRAD\",\"TCGA-SKCM\",\"TCGA-COAD\",\"TCGA-STAD\",\"TCGA-BLCA\",\"TCGA-LIHC\",\"TCGA-CESC\",\"TCGA-KIRP\",\"TCGA-SARC\",\"TCGA-LAML\",\"TCGA-PAAD\",\"TCGA-ESCA\",\"TCGA-PCPG\",\"TCGA-READ\",\"TCGA-TGCT\",\"TCGA-THYM\",\"TCGA-KICH\",\"TCGA-ACC\",\"TCGA-MESO\",\"TCGA-UVM\",\"TCGA-DLBC\",\"TCGA-UCS\",\"TCGA-CHOL\"]\n",
    "dirFile = 'cancer_types/'\n",
    "\n",
    "for i in range(len(names)):\n",
    "    print(names[i])\n",
    "    new_df = pd.DataFrame()\n",
    "    # my_df -- is a dataframe contains two columns of (patiant_gene_expression_files_names, cancer_type)\n",
    "    temp = my_df.loc[my_df['Cancer Type'] == names[i]]\n",
    "    for index, row in temp.iterrows():\n",
    "        df = pd.read_csv(dirFile+names[i]+\"/exp_count/\"+row['File Name'], compression='gzip', error_bad_lines=False, index_col=None, header=None, sep='\\t')\n",
    "        df.columns = ['gene', str(row['File Name'])]\n",
    "        new_df = pd.concat([new_df, df[str(row['File Name'])]], axis=1)\n",
    "    # row normlization\n",
    "    new_df = new_df.apply(lambda x: (x-x.min())/(x.max()-x.min()), axis=1)\n",
    "    for column in new_df:\n",
    "        print(column)\n",
    "        df2 = pd.concat([df[['gene']], new_df[[column]]], axis=1)\n",
    "        df2 = df2.head(-5)\n",
    "        os.mkdir(dirFile+names[i]+\"/exp/\"+\"row\")\n",
    "        df2.to_csv(dirFile+names[i]+\"/exp/\"+\"row/\"+column, sep='\\t', index=False, header=False, compression='gzip')\n",
    "        \n",
    "        \n",
    "        \n",
    "for i in range(len(names)):\n",
    "    print(names[i])\n",
    "    new_df = pd.DataFrame()\n",
    "    # my_df -- is a dataframe contains two columns of (patiant_gene_expression_files_names, cancer_type)\n",
    "    temp = my_df.loc[my_df['Cancer Type'] == names[i]]\n",
    "    for index, row in temp.iterrows():\n",
    "        df = pd.read_csv(dirFile+names[i]+\"/exp_count/\"+row['File Name'], compression='gzip', error_bad_lines=False, index_col=None, header=None, sep='\\t')\n",
    "        df.columns = ['gene', str(row['File Name'])]\n",
    "        new_df = pd.concat([new_df, df[str(row['File Name'])]], axis=1)\n",
    "    # matrix normlization\n",
    "    column_maxes = new_df.max()\n",
    "    df_max = column_maxes.max()\n",
    "    column_mins = new_df.min()\n",
    "    df_min = column_mins.min()\n",
    "    normalized_df = (new_df - df_min) / (df_max - df_min)\n",
    "    for column in normalized_df:\n",
    "        print(column)\n",
    "        df2 = pd.concat([df[['gene']], normalized_df[[column]]], axis=1)\n",
    "        df2 = df2.head(-5)\n",
    "        os.mkdir(dirFile+names[i]+\"/exp/\"+\"matrix\")\n",
    "        df2.to_csv(dirFile+names[i]+\"/exp/\"+\"matrix/\"+column, sep='\\t', index=False, header=False, compression='gzip')\n",
    "        \n",
    "\n",
    "\n",
    "for i in range(len(names)):\n",
    "    print(names[i])\n",
    "    new_df = pd.DataFrame()\n",
    "    # my_df -- is a dataframe contains two columns of (patiant_gene_expression_files_names, cancer_type)\n",
    "    temp = my_df.loc[my_df['Cancer Type'] == names[i]]\n",
    "    for index, row in temp.iterrows():\n",
    "        df = pd.read_csv(dirFile+names[i]+\"/exp_count/\"+row['File Name'], compression='gzip', error_bad_lines=False, index_col=None, header=None, sep='\\t')\n",
    "        df.columns = ['gene', str(row['File Name'])]\n",
    "        new_df = pd.concat([new_df, df[str(row['File Name'])]], axis=1)\n",
    "    # column normlization\n",
    "    for column in new_df:\n",
    "        print(column)\n",
    "        new_df[column] = (new_df[column] - new_df[column].min()) / (new_df[column].max() - new_df[column].min())\n",
    "        df2 = pd.concat([df[['gene']], new_df[[column]]], axis=1)\n",
    "        df2 = df2.head(-5)\n",
    "        os.mkdir(dirFile+names[i]+\"/exp/\"+\"col\")\n",
    "        df2.to_csv(dirFile+names[i]+\"/exp/\"+\"col/\"+column, sep='\\t', index=False, header=False, compression='gzip')"
   ]
  },
  {
   "cell_type": "markdown",
   "metadata": {},
   "source": [
    "# The normalized gene expression values will be saved in the newly created folders (row, matrix and col)"
   ]
  }
 ],
 "metadata": {
  "kernelspec": {
   "display_name": "Python 3",
   "language": "python",
   "name": "python3"
  },
  "language_info": {
   "codemirror_mode": {
    "name": "ipython",
    "version": 3
   },
   "file_extension": ".py",
   "mimetype": "text/x-python",
   "name": "python",
   "nbconvert_exporter": "python",
   "pygments_lexer": "ipython3",
   "version": "3.8.10"
  }
 },
 "nbformat": 4,
 "nbformat_minor": 4
}

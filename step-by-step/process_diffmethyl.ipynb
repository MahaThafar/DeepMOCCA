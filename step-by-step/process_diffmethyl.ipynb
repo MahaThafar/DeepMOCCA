{
 "cells": [
  {
   "cell_type": "code",
   "execution_count": 1,
   "id": "794a81b8",
   "metadata": {},
   "outputs": [],
   "source": [
    "import pandas as pd\n",
    "import csv\n",
    "import numpy as np\n",
    "import os\n",
    "import glob\n",
    "from scipy.stats import ranksums\n",
    "from statsmodels.sandbox.stats.multicomp import multipletests"
   ]
  },
  {
   "cell_type": "markdown",
   "id": "0aacc1bb",
   "metadata": {},
   "source": [
    "# Here we measure the significant difference between the methylated value in tumor and normal tissue by considereding regions as differentially methylated based on the Wilcoxon rank-sum test adjusted byBenjamini-Hochberg method"
   ]
  },
  {
   "cell_type": "code",
   "execution_count": 2,
   "id": "161a860a",
   "metadata": {},
   "outputs": [],
   "source": [
    "names = [\"TCGA-BRCA\",\"TCGA-GBM\",\"TCGA-OV\",\"TCGA-LUAD\",\"TCGA-UCEC\",\"TCGA-KIRC\",\"TCGA-HNSC\",\"TCGA-LGG\",\"TCGA-THCA\",\"TCGA-LUSC\",\"TCGA-PRAD\",\"TCGA-SKCM\",\"TCGA-COAD\",\"TCGA-STAD\",\"TCGA-BLCA\",\"TCGA-LIHC\",\"TCGA-CESC\",\"TCGA-KIRP\",\"TCGA-SARC\",\"TCGA-LAML\",\"TCGA-PAAD\",\"TCGA-ESCA\",\"TCGA-PCPG\",\"TCGA-READ\",\"TCGA-TGCT\",\"TCGA-THYM\",\"TCGA-KICH\",\"TCGA-ACC\",\"TCGA-MESO\",\"TCGA-UVM\",\"TCGA-DLBC\",\"TCGA-UCS\",\"TCGA-CHOL\"]\n",
    "dirFile = 'cancer_types/'\n",
    "p_values = []\n",
    "for i in range(len(names)):\n",
    "    print(names[i])\n",
    "    search_path = dirFile + names[i] + \"/myth/*.txt\"\n",
    "    allFile = glob.glob(search_path)\n",
    "    for file_ in allFile:\n",
    "        temp_norml = my_df.loc[my_df['Case ID'] == my_df['Case ID'] and my_df['Sample Type'] == 'Solid Tissue Normal']\n",
    "        temp_tumor = my_df.loc[my_df['Case ID'] == my_df['Case ID'] and my_df['Sample Type'] == 'Primary Tumor']\n",
    "        df_normal = pd.read_csv(dirFile+names[i]+\"/myth/\"+temp_norml['File Name'], header=None, sep='\\t')\n",
    "        df_tumor = pd.read_csv(dirFile+names[i]+\"/myth/\"+temp_tumor['File Name'], header=None, sep='\\t')\n",
    "        df_normal.columns = ['Transcript_ID','Beta_value']\n",
    "        df_tumor.columns = ['Transcript_ID','Beta_value']\n",
    "        for index, row in df_normal.iterrows():\n",
    "            s, p = ranksums(row['Beta_value'],df_tumor['Beta_value'][index])\n",
    "            p_values.append(p)\n",
    "        df = pd.DataFrame(p_values, columns=['p-value'])\n",
    "        p_adjusted = multipletests(df['p-value'], method='fdr_bh')\n",
    "        dataframe=pd.DataFrame(p_adjusted[1], columns=['p_adjusted']) \n",
    "        df = dataframe[['p_adjusted']]\n",
    "        fin = pd.concat([df_normal['Transcript_ID'], df], axis=1)\n",
    "        fin.to_csv(dirFile+names[i]+\"/myth/\"+file_, sep='\\t', index=False, header=None)"
   ]
  }
 ],
 "metadata": {
  "kernelspec": {
   "display_name": "Python 3",
   "language": "python",
   "name": "python3"
  },
  "language_info": {
   "codemirror_mode": {
    "name": "ipython",
    "version": 3
   },
   "file_extension": ".py",
   "mimetype": "text/x-python",
   "name": "python",
   "nbconvert_exporter": "python",
   "pygments_lexer": "ipython3",
   "version": "3.8.10"
  }
 },
 "nbformat": 4,
 "nbformat_minor": 5
}

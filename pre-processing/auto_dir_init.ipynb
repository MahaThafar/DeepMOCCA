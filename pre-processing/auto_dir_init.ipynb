{
 "cells": [
  {
   "cell_type": "code",
   "execution_count": 4,
   "metadata": {
    "collapsed": true
   },
   "outputs": [],
   "source": [
    "import pandas as pd\n",
    "import csv\n",
    "import numpy as np\n",
    "import os\n",
    "import glob\n",
    "import shutil"
   ]
  },
  {
   "cell_type": "code",
   "execution_count": 5,
   "metadata": {
    "collapsed": true
   },
   "outputs": [],
   "source": [
    "names = [\"TCGA-BRCA\",\"TCGA-GBM\",\"TCGA-OV\",\"TCGA-LUAD\",\"TCGA-UCEC\",\"TCGA-KIRC\",\"TCGA-HNSC\",\"TCGA-LGG\",\"TCGA-THCA\",\"TCGA-LUSC\",\"TCGA-PRAD\",\"TCGA-SKCM\",\"TCGA-COAD\",\"TCGA-STAD\",\"TCGA-BLCA\",\"TCGA-LIHC\",\"TCGA-CESC\",\"TCGA-KIRP\",\"TCGA-SARC\",\"TCGA-LAML\",\"TCGA-PAAD\",\"TCGA-ESCA\",\"TCGA-PCPG\",\"TCGA-READ\",\"TCGA-TGCT\",\"TCGA-THYM\",\"TCGA-KICH\",\"TCGA-ACC\",\"TCGA-MESO\",\"TCGA-UVM\",\"TCGA-DLBC\",\"TCGA-UCS\",\"TCGA-CHOL\"]\n",
    "dirFile = 'cancer_types/'"
   ]
  },
  {
   "cell_type": "code",
   "execution_count": 3,
   "metadata": {
    "collapsed": true
   },
   "outputs": [],
   "source": [
    "for i in range(len(names)):\n",
    "    os.makedirs(dirFile + names[i])"
   ]
  },
  {
   "cell_type": "code",
   "execution_count": 5,
   "metadata": {
    "collapsed": true
   },
   "outputs": [],
   "source": [
    "for i in range(len(names)):\n",
    "    os.makedirs(dirFile + names[i] + \"/exp_norm\")\n",
    "    os.makedirs(dirFile + names[i] + \"/exp_count\")\n",
    "    os.makedirs(dirFile + names[i] + \"/exp_upper\")\n",
    "    os.makedirs(dirFile + names[i] + \"/myth\")\n",
    "    os.makedirs(dirFile + names[i] + \"/cnv\")\n",
    "    os.makedirs(dirFile + names[i] + \"/clinical\")\n",
    "    os.makedirs(dirFile + names[i] + \"/vcf\")"
   ]
  },
  {
   "cell_type": "code",
   "execution_count": null,
   "metadata": {
    "collapsed": true
   },
   "outputs": [],
   "source": [
    "for i in range(len(names)):\n",
    "    os.makedirs(dirFile + names[i] + \"/exp_norm\" + \"/col\")\n",
    "    os.makedirs(dirFile + names[i] + \"/exp_norm\" + \"/row\")\n",
    "    os.makedirs(dirFile + names[i] + \"/exp_norm\" + \"/matrix\")\n",
    "    os.makedirs(dirFile + names[i] + \"/exp_count\" + \"/col\")\n",
    "    os.makedirs(dirFile + names[i] + \"/exp_count\" + \"/row\")\n",
    "    os.makedirs(dirFile + names[i] + \"/exp_count\" + \"/matrix\")\n",
    "    os.makedirs(dirFile + names[i] + \"/exp_upper\" + \"/col\")\n",
    "    os.makedirs(dirFile + names[i] + \"/exp_upper\" + \"/row\")\n",
    "    os.makedirs(dirFile + names[i] + \"/exp_upper\" + \"/matrix\")"
   ]
  },
  {
   "cell_type": "code",
   "execution_count": 6,
   "metadata": {},
   "outputs": [],
   "source": [
    "# for i in range(len(names)):\n",
    "#     shutil.rmtree(dirFile + names[i] + \"/vcf/output\")"
   ]
  },
  {
   "cell_type": "code",
   "execution_count": 7,
   "metadata": {
    "collapsed": true
   },
   "outputs": [],
   "source": [
    "for i in range(len(names)):\n",
    "    os.makedirs(dirFile + names[i] + \"/vcf/output\")"
   ]
  }
 ],
 "metadata": {
  "kernelspec": {
   "display_name": "Python 3",
   "language": "python",
   "name": "python3"
  },
  "language_info": {
   "codemirror_mode": {
    "name": "ipython",
    "version": 3
   },
   "file_extension": ".py",
   "mimetype": "text/x-python",
   "name": "python",
   "nbconvert_exporter": "python",
   "pygments_lexer": "ipython3",
   "version": "3.7.6"
  }
 },
 "nbformat": 4,
 "nbformat_minor": 2
}

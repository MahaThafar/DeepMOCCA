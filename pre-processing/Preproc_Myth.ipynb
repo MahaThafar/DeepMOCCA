{
 "cells": [
  {
   "cell_type": "code",
   "execution_count": null,
   "metadata": {},
   "outputs": [],
   "source": [
    "import pandas as pd\n",
    "import csv\n",
    "import numpy as np\n",
    "import os\n",
    "import glob"
   ]
  },
  {
   "cell_type": "code",
   "execution_count": null,
   "metadata": {},
   "outputs": [],
   "source": [
    "names = [\"TCGA-LIHC\",\"TCGA-CESC\",\"TCGA-KIRP\",\"TCGA-SARC\",\"TCGA-LAML\",\"TCGA-PAAD\",\"TCGA-ESCA\",\"TCGA-PCPG\",\"TCGA-READ\",\"TCGA-TGCT\",\"TCGA-THYM\",\"TCGA-KICH\",\"TCGA-ACC\",\"TCGA-MESO\",\"TCGA-UVM\",\"TCGA-DLBC\",\"TCGA-UCS\",\"TCGA-CHOL\"]\n",
    "#\"TCGA-BRCA\",\"TCGA-GBM\",\"TCGA-OV\",\"TCGA-LUAD\",\"TCGA-UCEC\",\"TCGA-KIRC\",\"TCGA-HNSC\",\"TCGA-LGG\",\"TCGA-THCA\",\"TCGA-LUSC\",\"TCGA-PRAD\",\"TCGA-SKCM\",\"TCGA-COAD\",\"TCGA-STAD\",\"TCGA-BLCA\",\n",
    "dirFile = 'cancer_types/'"
   ]
  },
  {
   "cell_type": "code",
   "execution_count": null,
   "metadata": {},
   "outputs": [],
   "source": [
    "for i in range(len(names)):\n",
    "    print(names[i])\n",
    "    search_path = dirFile + names[i] + \"/myth/*.txt\"\n",
    "    allFile = glob.glob(search_path)\n",
    "    for file_ in allFile:\n",
    "        df1 = pd.read_csv(file_, header=0, sep='\\t')\n",
    "        print(file_)\n",
    "        dff = df1[['Transcript_ID','Beta_value']]\n",
    "        dff = dff[dff['Beta_value'].notnull()]\n",
    "        dff = dff[dff['Transcript_ID'] != '.']\n",
    "        dff.to_csv(file_, sep='\\t', index=False, header=False)"
   ]
  }
 ],
 "metadata": {
  "kernelspec": {
   "display_name": "Python 3",
   "language": "python",
   "name": "python3"
  },
  "language_info": {
   "codemirror_mode": {
    "name": "ipython",
    "version": 3
   },
   "file_extension": ".py",
   "mimetype": "text/x-python",
   "name": "python",
   "nbconvert_exporter": "python",
   "pygments_lexer": "ipython3",
   "version": "3.7.6"
  }
 },
 "nbformat": 4,
 "nbformat_minor": 4
}

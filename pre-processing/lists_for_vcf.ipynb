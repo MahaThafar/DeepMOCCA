{
 "cells": [
  {
   "cell_type": "code",
   "execution_count": 1,
   "metadata": {},
   "outputs": [],
   "source": [
    "import pandas as pd\n",
    "import csv\n",
    "import numpy as np\n",
    "import os\n",
    "import glob"
   ]
  },
  {
   "cell_type": "code",
   "execution_count": 2,
   "metadata": {},
   "outputs": [],
   "source": [
    "names = [\"TCGA-BRCA\",\"TCGA-GBM\",\"TCGA-OV\",\"TCGA-LUAD\",\"TCGA-UCEC\",\"TCGA-KIRC\",\"TCGA-HNSC\",\"TCGA-LGG\",\"TCGA-THCA\",\"TCGA-LUSC\",\"TCGA-PRAD\",\"TCGA-SKCM\",\"TCGA-COAD\",\"TCGA-STAD\",\"TCGA-BLCA\",\"TCGA-LIHC\",\"TCGA-CESC\",\"TCGA-KIRP\",\"TCGA-SARC\",\"TCGA-LAML\",\"TCGA-PAAD\",\"TCGA-ESCA\",\"TCGA-PCPG\",\"TCGA-READ\",\"TCGA-TGCT\",\"TCGA-THYM\",\"TCGA-KICH\",\"TCGA-ACC\",\"TCGA-MESO\",\"TCGA-UVM\",\"TCGA-DLBC\",\"TCGA-UCS\",\"TCGA-CHOL\"]\n",
    "dirFile = 'cancer_types/'"
   ]
  },
  {
   "cell_type": "code",
   "execution_count": 3,
   "metadata": {},
   "outputs": [
    {
     "name": "stdout",
     "output_type": "stream",
     "text": [
      "TCGA-BRCA\n",
      "TCGA-GBM\n",
      "TCGA-OV\n",
      "TCGA-LUAD\n",
      "TCGA-UCEC\n",
      "TCGA-KIRC\n",
      "TCGA-HNSC\n",
      "TCGA-LGG\n",
      "TCGA-THCA\n",
      "TCGA-LUSC\n",
      "TCGA-PRAD\n",
      "TCGA-SKCM\n",
      "TCGA-COAD\n",
      "TCGA-STAD\n",
      "TCGA-BLCA\n",
      "TCGA-LIHC\n",
      "TCGA-CESC\n",
      "TCGA-KIRP\n",
      "TCGA-SARC\n",
      "TCGA-LAML\n",
      "TCGA-PAAD\n",
      "TCGA-ESCA\n",
      "TCGA-PCPG\n",
      "TCGA-READ\n",
      "TCGA-TGCT\n",
      "TCGA-THYM\n",
      "TCGA-KICH\n",
      "TCGA-ACC\n",
      "TCGA-MESO\n",
      "TCGA-UVM\n",
      "TCGA-DLBC\n",
      "TCGA-UCS\n",
      "TCGA-CHOL\n"
     ]
    }
   ],
   "source": [
    "for i in range(len(names)):\n",
    "    print(names[i])\n",
    "    search_path = dirFile + names[i] + \"/vcf/output/*.txt\"\n",
    "    allFile = glob.glob(search_path)\n",
    "    df = pd.DataFrame(allFile)\n",
    "    df['index_col'] = df.index\n",
    "    df.columns = ['0','index_col']\n",
    "    dn = df[['index_col','0']]\n",
    "    dn['0'] = dn['0'].map(lambda x: x.lstrip(dirFile + names[i] + \"/vcf/output/\"))\n",
    "    dn.to_csv(dirFile + names[i] + '/vcf/output/list.txt', sep=':', index=False, header=False)"
   ]
  },
  {
   "cell_type": "code",
   "execution_count": null,
   "metadata": {},
   "outputs": [],
   "source": []
  }
 ],
 "metadata": {
  "kernelspec": {
   "display_name": "Python 3",
   "language": "python",
   "name": "python3"
  },
  "language_info": {
   "codemirror_mode": {
    "name": "ipython",
    "version": 3
   },
   "file_extension": ".py",
   "mimetype": "text/x-python",
   "name": "python",
   "nbconvert_exporter": "python",
   "pygments_lexer": "ipython3",
   "version": "3.7.6"
  }
 },
 "nbformat": 4,
 "nbformat_minor": 2
}
